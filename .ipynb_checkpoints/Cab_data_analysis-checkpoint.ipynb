{
 "cells": [
  {
   "cell_type": "code",
   "execution_count": 1,
   "id": "b2054f1f-a0d7-4a27-b1c4-015204792533",
   "metadata": {},
   "outputs": [],
   "source": [
    "import pandas as pd"
   ]
  },
  {
   "cell_type": "code",
   "execution_count": 3,
   "id": "98c9ead2-98e0-4c64-b6e7-567e40047443",
   "metadata": {},
   "outputs": [],
   "source": [
    "df = pd.read_csv(\"cab_data.csv\")"
   ]
  },
  {
   "cell_type": "code",
   "execution_count": 4,
   "id": "e9a5ba8b-7ca6-41ef-b392-912eab1eb8ad",
   "metadata": {},
   "outputs": [
    {
     "name": "stdout",
     "output_type": "stream",
     "text": [
      "Sahib\n"
     ]
    }
   ],
   "source": [
    "print(\"Sahib\")"
   ]
  },
  {
   "cell_type": "code",
   "execution_count": null,
   "id": "d87eddf8-011f-4181-9cc8-9ccdf75b46ea",
   "metadata": {},
   "outputs": [],
   "source": []
  }
 ],
 "metadata": {
  "kernelspec": {
   "display_name": "Python 3 (ipykernel)",
   "language": "python",
   "name": "python3"
  },
  "language_info": {
   "codemirror_mode": {
    "name": "ipython",
    "version": 3
   },
   "file_extension": ".py",
   "mimetype": "text/x-python",
   "name": "python",
   "nbconvert_exporter": "python",
   "pygments_lexer": "ipython3",
   "version": "3.12.1"
  }
 },
 "nbformat": 4,
 "nbformat_minor": 5
}
